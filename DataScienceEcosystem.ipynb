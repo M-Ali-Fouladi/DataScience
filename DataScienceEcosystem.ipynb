{
 "cells": [
  {
   "cell_type": "markdown",
   "id": "eff4cdcd-e99f-42e1-91c8-f10a23f652a0",
   "metadata": {},
   "source": [
    "# Data Science Tools and Ecosystem"
   ]
  },
  {
   "cell_type": "markdown",
   "id": "5a602796-d7b8-4adf-9549-34f2b9722a88",
   "metadata": {},
   "source": [
    "## In this notebook, Data Science Tools and Ecosystem are summarized."
   ]
  },
  {
   "cell_type": "markdown",
   "id": "2ac1f6b7-8f3e-4f1b-b31e-2f0462cafa20",
   "metadata": {},
   "source": [
    "**Objectives:**\n",
    "- Languages in data science\n",
    "    * python\n",
    "    * R language\n",
    "    * julia\n",
    "- Libraries used in data science\n",
    "    * NumPy\n",
    "    * Pandas\n",
    "    * Matplotlib\n",
    "  \n",
    "  "
   ]
  },
  {
   "cell_type": "markdown",
   "id": "71b958cc-292d-4ff4-a0af-cd1fa62bfbb0",
   "metadata": {},
   "source": [
    "### Some of the popular languages that Data Scientists use are:\n",
    "1. Python: Python is one of the most popular and versatile programming languages for data science.\n",
    "2. R language: R is a specialized programming language for statistics and data analysis.\n",
    "3. Scala: Scala is a language that runs on the Java Virtual Machine (JVM) and is used in combination with Apache Spark for big data processing.\n",
    "4.  Julia: Julia is a relatively new language that aims to provide high-performance computing with a syntax similar to Python and capabilities similar to R."
   ]
  },
  {
   "cell_type": "markdown",
   "id": "f45033e3-1c07-48a0-b481-bd664ca311e2",
   "metadata": {},
   "source": [
    "### Some of the commonly used libraries used by Data Scientists include:\n",
    "1. NumPy: NumPy is a fundamental library for numerical computing in Python.\n",
    "2. Pandas: Pandas is a powerful library for data manipulation and analysis.\n",
    "3. Matplotlib: Matplotlib is a popular plotting library in Python.\n",
    "4. scikit-learn: scikit-learn is a widely used library for machine learning in Python.\n"
   ]
  },
  {
   "cell_type": "markdown",
   "id": "a344c62a-5516-4390-8a68-b1e88b1bc44d",
   "metadata": {},
   "source": [
    " |Data Science Tools|\n",
    " |------------------|\n",
    " |Jupyter Notebook|\n",
    " |RStudio|\n",
    " |Visual Studio Code|\n"
   ]
  },
  {
   "cell_type": "markdown",
   "id": "8941b537-e424-4cb4-a01a-73cc331a2319",
   "metadata": {},
   "source": [
    "### Below are a few examples of evaluating arithmetic expressions in Python\n"
   ]
  },
  {
   "cell_type": "code",
   "execution_count": 14,
   "id": "36d6a06c-366b-4c53-82bf-9e9e7327244f",
   "metadata": {},
   "outputs": [
    {
     "data": {
      "text/plain": [
       "17"
      ]
     },
     "execution_count": 14,
     "metadata": {},
     "output_type": "execute_result"
    }
   ],
   "source": [
    "#This a simple arithmetic expression to mutiply then add integers\n",
    "\n",
    "(3*4)+5\n"
   ]
  },
  {
   "cell_type": "code",
   "execution_count": 26,
   "id": "7a27a033-1316-4007-801a-5536a507d24e",
   "metadata": {},
   "outputs": [
    {
     "name": "stdout",
     "output_type": "stream",
     "text": [
      "your entered minutes is 3.3333333333333335 hours\n"
     ]
    }
   ],
   "source": [
    "#This will convert 200 minutes to hours by diving by 60\n",
    "minutes=200\n",
    "hours=minutes/60\n",
    "print(\"your entered minutes is \"+str(hours)+\" hours\")"
   ]
  },
  {
   "cell_type": "markdown",
   "id": "06cf9a04-ee01-4154-a570-aa8eb729a037",
   "metadata": {},
   "source": [
    "## Author\n",
    "Mohammadali fouladi"
   ]
  }
 ],
 "metadata": {
  "kernelspec": {
   "display_name": "Python 3 (ipykernel)",
   "language": "python",
   "name": "python3"
  },
  "language_info": {
   "codemirror_mode": {
    "name": "ipython",
    "version": 3
   },
   "file_extension": ".py",
   "mimetype": "text/x-python",
   "name": "python",
   "nbconvert_exporter": "python",
   "pygments_lexer": "ipython3",
   "version": "3.11.0"
  }
 },
 "nbformat": 4,
 "nbformat_minor": 5
}
